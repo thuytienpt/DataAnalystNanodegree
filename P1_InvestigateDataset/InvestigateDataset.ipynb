{
 "cells": [
  {
   "cell_type": "markdown",
   "metadata": {},
   "source": [
    "# Introduction to the data\n",
    "We will be work with data from the sinking of the RMS Titanic which is one of the most infamous shipwrecks in history. The dataset represents 891 passengers on the Titanic and some information about them.\n",
    "We've selected the columns from the dataset, which are: \n",
    "```\n",
    "PassengerId : A numerical id assigned to each passenger\n",
    "Survived    : Whether the passenger survived (1), or didn't (0)\n",
    "Pclass      : The class the passenger was in\n",
    "Name        : The name of the passenger\n",
    "Sex         : The gender of the passenger is male or female\n",
    "Age         : The age of the passenger Fractional\n",
    "SibSp       : The number of siblings and spouses the passenger had on board\n",
    "Parch       : The number of parents and children the passenger had on board\n",
    "Ticket      : The ticket number of the passenger\n",
    "Fare        : How much the passenger paid for the ticket\n",
    "Cabin       : Which cabin the passenger was in\n",
    "Embarked    : Where the passenger boarded the Titanic\n",
    "```"
   ]
  },
  {
   "cell_type": "markdown",
   "metadata": {},
   "source": [
    "# Questions\n",
    ">- Is the chance of survival for the passengers influenced by Pclass?\n",
    ">- Is the chance of survival for the passengers influenced by Gender?\n",
    ">- Is the chance of survival for the passengers influenced by Age?\n",
    ">- Is the chance of survival for the passengers influenced by the number of family members?\n",
    ">- Is the \"children and women first\" rule actually right?\n",
    ">- What factors made people more likely to survive?   "
   ]
  },
  {
   "cell_type": "markdown",
   "metadata": {},
   "source": [
    "# Data Wrangling"
   ]
  },
  {
   "cell_type": "markdown",
   "metadata": {},
   "source": [
    "Let's import the CSV to the Pandas and sumarize the dataset "
   ]
  },
  {
   "cell_type": "code",
   "execution_count": 1,
   "metadata": {
    "collapsed": true
   },
   "outputs": [],
   "source": [
    "from __future__ import print_function\n",
    "import seaborn as sns\n",
    "import numpy as np\n",
    "import pandas as pd\n",
    "import matplotlib.pyplot as plt\n",
    "%matplotlib inline"
   ]
  },
  {
   "cell_type": "code",
   "execution_count": 2,
   "metadata": {},
   "outputs": [
    {
     "data": {
      "text/html": [
       "<div>\n",
       "<style>\n",
       "    .dataframe thead tr:only-child th {\n",
       "        text-align: right;\n",
       "    }\n",
       "\n",
       "    .dataframe thead th {\n",
       "        text-align: left;\n",
       "    }\n",
       "\n",
       "    .dataframe tbody tr th {\n",
       "        vertical-align: top;\n",
       "    }\n",
       "</style>\n",
       "<table border=\"1\" class=\"dataframe\">\n",
       "  <thead>\n",
       "    <tr style=\"text-align: right;\">\n",
       "      <th></th>\n",
       "      <th>PassengerId</th>\n",
       "      <th>Survived</th>\n",
       "      <th>Pclass</th>\n",
       "      <th>Age</th>\n",
       "      <th>SibSp</th>\n",
       "      <th>Parch</th>\n",
       "      <th>Fare</th>\n",
       "    </tr>\n",
       "  </thead>\n",
       "  <tbody>\n",
       "    <tr>\n",
       "      <th>count</th>\n",
       "      <td>891.000000</td>\n",
       "      <td>891.000000</td>\n",
       "      <td>891.000000</td>\n",
       "      <td>714.000000</td>\n",
       "      <td>891.000000</td>\n",
       "      <td>891.000000</td>\n",
       "      <td>891.000000</td>\n",
       "    </tr>\n",
       "    <tr>\n",
       "      <th>mean</th>\n",
       "      <td>446.000000</td>\n",
       "      <td>0.383838</td>\n",
       "      <td>2.308642</td>\n",
       "      <td>29.699118</td>\n",
       "      <td>0.523008</td>\n",
       "      <td>0.381594</td>\n",
       "      <td>32.204208</td>\n",
       "    </tr>\n",
       "    <tr>\n",
       "      <th>std</th>\n",
       "      <td>257.353842</td>\n",
       "      <td>0.486592</td>\n",
       "      <td>0.836071</td>\n",
       "      <td>14.526497</td>\n",
       "      <td>1.102743</td>\n",
       "      <td>0.806057</td>\n",
       "      <td>49.693429</td>\n",
       "    </tr>\n",
       "    <tr>\n",
       "      <th>min</th>\n",
       "      <td>1.000000</td>\n",
       "      <td>0.000000</td>\n",
       "      <td>1.000000</td>\n",
       "      <td>0.420000</td>\n",
       "      <td>0.000000</td>\n",
       "      <td>0.000000</td>\n",
       "      <td>0.000000</td>\n",
       "    </tr>\n",
       "    <tr>\n",
       "      <th>25%</th>\n",
       "      <td>223.500000</td>\n",
       "      <td>0.000000</td>\n",
       "      <td>2.000000</td>\n",
       "      <td>20.125000</td>\n",
       "      <td>0.000000</td>\n",
       "      <td>0.000000</td>\n",
       "      <td>7.910400</td>\n",
       "    </tr>\n",
       "    <tr>\n",
       "      <th>50%</th>\n",
       "      <td>446.000000</td>\n",
       "      <td>0.000000</td>\n",
       "      <td>3.000000</td>\n",
       "      <td>28.000000</td>\n",
       "      <td>0.000000</td>\n",
       "      <td>0.000000</td>\n",
       "      <td>14.454200</td>\n",
       "    </tr>\n",
       "    <tr>\n",
       "      <th>75%</th>\n",
       "      <td>668.500000</td>\n",
       "      <td>1.000000</td>\n",
       "      <td>3.000000</td>\n",
       "      <td>38.000000</td>\n",
       "      <td>1.000000</td>\n",
       "      <td>0.000000</td>\n",
       "      <td>31.000000</td>\n",
       "    </tr>\n",
       "    <tr>\n",
       "      <th>max</th>\n",
       "      <td>891.000000</td>\n",
       "      <td>1.000000</td>\n",
       "      <td>3.000000</td>\n",
       "      <td>80.000000</td>\n",
       "      <td>8.000000</td>\n",
       "      <td>6.000000</td>\n",
       "      <td>512.329200</td>\n",
       "    </tr>\n",
       "  </tbody>\n",
       "</table>\n",
       "</div>"
      ],
      "text/plain": [
       "       PassengerId    Survived      Pclass         Age       SibSp  \\\n",
       "count   891.000000  891.000000  891.000000  714.000000  891.000000   \n",
       "mean    446.000000    0.383838    2.308642   29.699118    0.523008   \n",
       "std     257.353842    0.486592    0.836071   14.526497    1.102743   \n",
       "min       1.000000    0.000000    1.000000    0.420000    0.000000   \n",
       "25%     223.500000    0.000000    2.000000   20.125000    0.000000   \n",
       "50%     446.000000    0.000000    3.000000   28.000000    0.000000   \n",
       "75%     668.500000    1.000000    3.000000   38.000000    1.000000   \n",
       "max     891.000000    1.000000    3.000000   80.000000    8.000000   \n",
       "\n",
       "            Parch        Fare  \n",
       "count  891.000000  891.000000  \n",
       "mean     0.381594   32.204208  \n",
       "std      0.806057   49.693429  \n",
       "min      0.000000    0.000000  \n",
       "25%      0.000000    7.910400  \n",
       "50%      0.000000   14.454200  \n",
       "75%      0.000000   31.000000  \n",
       "max      6.000000  512.329200  "
      ]
     },
     "execution_count": 2,
     "metadata": {},
     "output_type": "execute_result"
    }
   ],
   "source": [
    "df_titanic = pd.read_csv('titanic-data.csv')\n",
    "df_titanic.describe()"
   ]
  },
  {
   "cell_type": "markdown",
   "metadata": {
    "collapsed": true
   },
   "source": [
    "#### Cleaning Data"
   ]
  },
  {
   "cell_type": "code",
   "execution_count": 3,
   "metadata": {},
   "outputs": [
    {
     "data": {
      "text/plain": [
       "PassengerId      0\n",
       "Survived         0\n",
       "Pclass           0\n",
       "Name             0\n",
       "Sex              0\n",
       "Age            177\n",
       "SibSp            0\n",
       "Parch            0\n",
       "Ticket           0\n",
       "Fare             0\n",
       "Cabin          687\n",
       "Embarked         2\n",
       "dtype: int64"
      ]
     },
     "execution_count": 3,
     "metadata": {},
     "output_type": "execute_result"
    }
   ],
   "source": [
    "# Count the missing values \n",
    "def count_missing_values(column):\n",
    "    return len(column[pd.isnull(column) == True])\n",
    "df_titanic.apply(lambda col: len(col[pd.isnull(col) == True]))"
   ]
  },
  {
   "cell_type": "markdown",
   "metadata": {},
   "source": [
    "Based on questions posed, 'Name', 'PassengerId', and 'Ticket' seem to be non-informative columns. \n",
    "Check missing values in the dataset, we can see there is a lot of missing 'Cabin' values. \n",
    "So, we will drop 'PassengerId', 'Name', 'Cabin', and 'Ticket' column.  \n",
    "And then I'll remove any missing values."
   ]
  },
  {
   "cell_type": "code",
   "execution_count": 4,
   "metadata": {},
   "outputs": [],
   "source": [
    "df_titanic = (df_titanic.drop(['PassengerId', 'Name', 'Cabin', 'Ticket'], axis=1)\n",
    "                       .dropna(axis=0))"
   ]
  },
  {
   "cell_type": "markdown",
   "metadata": {},
   "source": [
    "# Exploration"
   ]
  },
  {
   "cell_type": "code",
   "execution_count": 5,
   "metadata": {
    "collapsed": true
   },
   "outputs": [],
   "source": [
    "# Define color for visualization\n",
    "color_survived = sns.xkcd_palette(['light red', 'light blue'])\n",
    "color_person = sns.xkcd_palette(['blue', 'red', 'green'])"
   ]
  },
  {
   "cell_type": "markdown",
   "metadata": {},
   "source": [
    "### 1. Is the chance of survival for the passengers influenced by Pclass?\n",
    "Let's visualize the number of passengers who survived and died grouped by Pclass.  \n",
    "And compute the survival probability of each Pclass."
   ]
  },
  {
   "cell_type": "code",
   "execution_count": 6,
   "metadata": {},
   "outputs": [
    {
     "data": {
      "text/plain": [
       "Pclass\n",
       "1    0.652174\n",
       "2    0.479769\n",
       "3    0.239437\n",
       "Name: Survived, dtype: float64"
      ]
     },
     "execution_count": 6,
     "metadata": {},
     "output_type": "execute_result"
    },
    {
     "data": {
      "image/png": "[encoded data removed]",
      "text/plain": [
       "<matplotlib.figure.Figure at 0x1167a57f0>"
      ]
     },
     "metadata": {},
     "output_type": "display_data"
    }
   ],
   "source": [
    "(sns.countplot(x='Pclass', hue='Survived', \n",
    "               data=df_titanic, palette = color_survived)\n",
    "    .set(ylabel='Number Of Passengers'))\n",
    "df_titanic.groupby('Pclass')['Survived'].mean()"
   ]
  },
  {
   "cell_type": "markdown",
   "metadata": {},
   "source": [
    "The total of passengers on the third class are overwhelmingly, but the survival rate of the third class is the lowest.  \n",
    "The survival rate of a first class passenger is the highest, and so much higher than the others.  "
   ]
  },
  {
   "cell_type": "markdown",
   "metadata": {},
   "source": [
    "### 2. Is the chance of survival for the passengers influenced by Gender?\n",
    "Let's visualize the number of passengers who survived and died grouped by Sex.  \n",
    "And compute the survival probability of Male and Female."
   ]
  },
  {
   "cell_type": "code",
   "execution_count": 7,
   "metadata": {},
   "outputs": [
    {
     "data": {
      "text/plain": [
       "Sex\n",
       "female    0.752896\n",
       "male      0.205298\n",
       "Name: Survived, dtype: float64"
      ]
     },
     "execution_count": 7,
     "metadata": {},
     "output_type": "execute_result"
    },
    {
     "data": {
      "image/png": "[encoded data removed]",
      "text/plain": [
       "<matplotlib.figure.Figure at 0x1168bf4a8>"
      ]
     },
     "metadata": {},
     "output_type": "display_data"
    }
   ],
   "source": [
    "(sns.countplot(x='Sex', hue='Survived', \n",
    "               data=df_titanic, palette = color_survived)\n",
    "    .set(ylabel='Number Of Passengers'))\n",
    "df_titanic.groupby('Sex')['Survived'].mean()"
   ]
  },
  {
   "cell_type": "markdown",
   "metadata": {},
   "source": [
    "Look at the plot and numbers, it seems to me that women had the higher chances of survival than men many times."
   ]
  },
  {
   "cell_type": "markdown",
   "metadata": {},
   "source": [
    "### 3. Is the chance of survival for the passengers influenced by Age?\n",
    "Let's visualize the differences in age distributions between passengers who survived and died."
   ]
  },
  {
   "cell_type": "code",
   "execution_count": 8,
   "metadata": {},
   "outputs": [
    {
     "data": {
      "image/png": "[encoded data removed]",
      "text/plain": [
       "<matplotlib.figure.Figure at 0x116844be0>"
      ]
     },
     "metadata": {},
     "output_type": "display_data"
    }
   ],
   "source": [
    "plt.figure(figsize=(7, 5))\n",
    "(sns.violinplot(x='Age', y='Survived', orient = 'h', order = [ 0, 1],cut=0.0, scale = 'count',\n",
    "               data=df_titanic, palette = color_survived)\n",
    "    .set(xlabel = 'Age', ylabel='Survived',\n",
    "         xlim=(0, None), xticks =np.arange(0, 84, 8))\n",
    ")\n",
    "plt.show()"
   ]
  },
  {
   "cell_type": "markdown",
   "metadata": {},
   "source": [
    "I can see from the violin plot little different the distribution of Age by Survived.  \n",
    "Survival has thinner distribution and higher peak, but wider in the earlier statistics.  \n",
    "It seems that children had the high chances of survival and adults didn't that."
   ]
  },
  {
   "cell_type": "markdown",
   "metadata": {},
   "source": [
    "### 4. Is the chance of survival for the passengers influenced by the number of family members?"
   ]
  },
  {
   "cell_type": "code",
   "execution_count": 9,
   "metadata": {},
   "outputs": [
    {
     "data": {
      "image/png": "[encoded data removed]",
      "text/plain": [
       "<matplotlib.figure.Figure at 0x119ddafd0>"
      ]
     },
     "metadata": {},
     "output_type": "display_data"
    }
   ],
   "source": [
    "f, ((ax1, ax2)) = plt.subplots(1, 2, figsize=(14, 7), sharex=True)\n",
    "(sns.barplot(x='Parch', y='Survived', \n",
    "            data=df_titanic, ax = ax1)\n",
    "    .set(ylabel=\"Survival Probability\"))\n",
    "sns.barplot(x='SibSp', y='Survived', \n",
    "            data=df_titanic, ax = ax2)\n",
    "plt.show()"
   ]
  },
  {
   "cell_type": "markdown",
   "metadata": {},
   "source": [
    "Same conclusion for two plots: passengers who traveled with fewer family members have the higher chance of survival.  \n",
    "Now I’ll add 'FamilySize' column to define the total of family members ('SibSp' and 'Parch') the passenger had on board and visualize the survival probability of passengers grouped by FamilySize"
   ]
  },
  {
   "cell_type": "code",
   "execution_count": 10,
   "metadata": {},
   "outputs": [
    {
     "data": {
      "text/plain": [
       "FamilySize\n",
       "0    0.318408\n",
       "1    0.546763\n",
       "2    0.569892\n",
       "3    0.777778\n",
       "4    0.272727\n",
       "5    0.136364\n",
       "6    0.333333\n",
       "7    0.000000\n",
       "Name: Survived, dtype: float64"
      ]
     },
     "execution_count": 10,
     "metadata": {},
     "output_type": "execute_result"
    },
    {
     "data": {
      "image/png": "[encoded data removed]",
      "text/plain": [
       "<matplotlib.figure.Figure at 0x11a1da208>"
      ]
     },
     "metadata": {},
     "output_type": "display_data"
    }
   ],
   "source": [
    "df_titanic = df_titanic.assign(FamilySize = lambda p : p['SibSp'] + p['Parch'])\n",
    "(sns.barplot(x='FamilySize', y='Survived', data=df_titanic)\n",
    "    .set(ylabel='Survival Probability'))\n",
    "df_titanic.groupby('FamilySize')['Survived'].mean()"
   ]
  },
  {
   "cell_type": "markdown",
   "metadata": {},
   "source": [
    "We can see the passengers had the number of family members between 1 and 3 have the higher chance of survival.\n",
    "Besides, passengers traveled alone have the low chance of survival."
   ]
  },
  {
   "cell_type": "markdown",
   "metadata": {},
   "source": [
    "### 5. Is the \"children and women first\" rule actually right?"
   ]
  },
  {
   "cell_type": "markdown",
   "metadata": {},
   "source": [
    "I’ll add 'Person' column to define Male, Female, Child (who are less than 16).  \n",
    "Visualize the survival probability of passengers grouped by Child, Female, Male."
   ]
  },
  {
   "cell_type": "code",
   "execution_count": 11,
   "metadata": {},
   "outputs": [
    {
     "data": {
      "text/plain": [
       "Person\n",
       "child     0.590361\n",
       "female    0.773148\n",
       "male      0.174334\n",
       "Name: Survived, dtype: float64"
      ]
     },
     "execution_count": 11,
     "metadata": {},
     "output_type": "execute_result"
    },
    {
     "data": {
      "image/png": "[encoded data removed]",
      "text/plain": [
       "<matplotlib.figure.Figure at 0x116844d68>"
      ]
     },
     "metadata": {},
     "output_type": "display_data"
    }
   ],
   "source": [
    "df_titanic = df_titanic.assign(Person = lambda p : np.where(p['Age']>=16, p.Sex, 'child'))\n",
    "\n",
    "(sns.barplot(x='Person', y='Survived', data=df_titanic, \n",
    "            palette = color_person)\n",
    " .set(ylabel='Survival Probability'))\n",
    "df_titanic.groupby('Person')['Survived'].mean()"
   ]
  },
  {
   "cell_type": "markdown",
   "metadata": {},
   "source": [
    "We can see women had the highest survival rate and men had the lowest survival rate. Meanwhile, children had the medium survival rate, not high like the survival rate of women.  \n",
    "But let's remember the first question, the survival rate is affected by class, so the survival rate of children is not high because of the low survival rate of any class.  \n",
    "\n",
    "Now, let's visualize the survival probability of passengers grouped by Person and Pclass."
   ]
  },
  {
   "cell_type": "code",
   "execution_count": 12,
   "metadata": {},
   "outputs": [
    {
     "data": {
      "text/html": [
       "<div>\n",
       "<style>\n",
       "    .dataframe thead tr:only-child th {\n",
       "        text-align: right;\n",
       "    }\n",
       "\n",
       "    .dataframe thead th {\n",
       "        text-align: left;\n",
       "    }\n",
       "\n",
       "    .dataframe tbody tr th {\n",
       "        vertical-align: top;\n",
       "    }\n",
       "</style>\n",
       "<table border=\"1\" class=\"dataframe\">\n",
       "  <thead>\n",
       "    <tr style=\"text-align: right;\">\n",
       "      <th>Pclass</th>\n",
       "      <th>1</th>\n",
       "      <th>2</th>\n",
       "      <th>3</th>\n",
       "    </tr>\n",
       "    <tr>\n",
       "      <th>Person</th>\n",
       "      <th></th>\n",
       "      <th></th>\n",
       "      <th></th>\n",
       "    </tr>\n",
       "  </thead>\n",
       "  <tbody>\n",
       "    <tr>\n",
       "      <th>child</th>\n",
       "      <td>0.833333</td>\n",
       "      <td>1.000000</td>\n",
       "      <td>0.431034</td>\n",
       "    </tr>\n",
       "    <tr>\n",
       "      <th>female</th>\n",
       "      <td>0.975000</td>\n",
       "      <td>0.906250</td>\n",
       "      <td>0.430556</td>\n",
       "    </tr>\n",
       "    <tr>\n",
       "      <th>male</th>\n",
       "      <td>0.377551</td>\n",
       "      <td>0.066667</td>\n",
       "      <td>0.128889</td>\n",
       "    </tr>\n",
       "  </tbody>\n",
       "</table>\n",
       "</div>"
      ],
      "text/plain": [
       "Pclass         1         2         3\n",
       "Person                              \n",
       "child   0.833333  1.000000  0.431034\n",
       "female  0.975000  0.906250  0.430556\n",
       "male    0.377551  0.066667  0.128889"
      ]
     },
     "execution_count": 12,
     "metadata": {},
     "output_type": "execute_result"
    },
    {
     "data": {
      "image/png": "[encoded data removed]",
      "text/plain": [
       "<matplotlib.figure.Figure at 0x11687ca58>"
      ]
     },
     "metadata": {},
     "output_type": "display_data"
    }
   ],
   "source": [
    "(sns.barplot(x = 'Pclass', hue='Person', y='Survived', data=df_titanic, \n",
    "            palette = color_person)\n",
    " .set(ylabel='Survival Probability'))\n",
    "df_titanic.groupby(['Pclass', 'Person'])['Survived'].mean().unstack(0)"
   ]
  },
  {
   "cell_type": "markdown",
   "metadata": {},
   "source": [
    "The survival rates of women and children on first class and second class are very high (all above than 80%, even approximately 90% or 100%).  \n",
    "Besides, the survival rates of women and children on third class are much lower (about 43%).  \n",
    "But comparing them to the survival rates of women on the same class (just about 13%), we can see the survival rates of women and children are very high.  \n",
    "Now I can answer that 'children and women first' rule is actually right."
   ]
  },
  {
   "cell_type": "markdown",
   "metadata": {},
   "source": [
    "### 6. What factors made people more likely to survive?   \n",
    "I just analyze some factors like Person, and Pclass, FamilySize."
   ]
  },
  {
   "cell_type": "code",
   "execution_count": 13,
   "metadata": {},
   "outputs": [
    {
     "data": {
      "image/png": "[encoded data removed]",
      "text/plain": [
       "<matplotlib.figure.Figure at 0x1123ee7f0>"
      ]
     },
     "metadata": {},
     "output_type": "display_data"
    }
   ],
   "source": [
    "cmap = sns.diverging_palette(14, 256, sep=20, as_cmap=True)\n",
    "\n",
    "fig, ax = plt.subplots(1, 1, figsize=(7, 7))\n",
    "cbar_ax = fig.add_axes([.95, 0.2, .05, 0.6])\n",
    "((df_titanic.pivot_table( index='FamilySize', columns=['Person', 'Pclass'], values = 'Survived', aggfunc = np.mean))\n",
    " .pipe((sns.heatmap, 'data'), linewidths=0.1, annot=True, ax=ax, cmap = cmap, square = True, cbar_ax = cbar_ax, cbar = True))\n",
    "plt.show()"
   ]
  },
  {
   "cell_type": "markdown",
   "metadata": {},
   "source": [
    " Let’s take a look at the relationship between Person, Pclass, FamilySize and the survival rate of passengers on the heat map diagram. We can see some points:  \n",
    " - I said that the passengers traveling alone didn't have a high chance of survival on the fourth question.  But here,  the survival rates of the alone passenger who are either children or women are  high(the survival rates of women who were in first class and second class are above 90%, even the survival rates of women and child were in third class are above 50%).  However,  the survival rates of the alone passenger who are men are very low, especially in the second class and the third class (below 10%).\n",
    " - Based on the above question, we know the chances of survival for children and women in the third class are not high. With this plot, we can investigate that the survival rate of children who had fewer than 4 family members is really high, and the survival rate of both children and women more than 3 family members is very low (except the case with six family members, other cases passengers didn't have any chance of survival).\n",
    " - The survival rate of men is very low for the first class( except the case \bwith three family members, all of them survived). And the survival rates of men are extremely low and decrease to zero by the increment of the family size quickly for the second class and the third class. We can also observe that alone man have the higher chance of survival than other men in the same class (so even getting the highest rate in the second and third class).\n"
   ]
  },
  {
   "cell_type": "markdown",
   "metadata": {},
   "source": [
    "## Conclusion"
   ]
  },
  {
   "cell_type": "markdown",
   "metadata": {},
   "source": [
    ">1. There is the obvious difference - even contradictions - among the survival rates of child, women, and men. Women and children had much higher chance of survival than men on the Titanic\n",
    ">3. Similarly, the class of a passenger influenced the chance of survival as well. In general, the first class did better than the third one. \n",
    ">4. Based on the class, there is a striking contrast among the survival rates of children, women, and men in the second class, which of children and women is nearly one, but almost the men died (the survival rate is about 6.7%)\n",
    ">4. In the whole, the alone passengers had lower survival rate than passengers traveled with family. In the group passenger by Person feature, women and children traveling alone had more chances of survival than traveling with more than three family members.  \n",
    ">Especially, in the second and third class, where had the extremely low survival rate of men,  the survival rate of men traveling alone is also higher than with family. In the additional, having more than one family members for the second class or more than two family members for the third class, the men died all. "
   ]
  }
 ],
 "metadata": {
  "kernelspec": {
   "display_name": "Python 3",
   "language": "python",
   "name": "python3"
  },
  "language_info": {
   "codemirror_mode": {
    "name": "ipython",
    "version": 3
   },
   "file_extension": ".py",
   "mimetype": "text/x-python",
   "name": "python",
   "nbconvert_exporter": "python",
   "pygments_lexer": "ipython3",
   "version": "3.6.1"
  }
 },
 "nbformat": 4,
 "nbformat_minor": 2
}
